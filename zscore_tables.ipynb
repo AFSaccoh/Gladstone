{
 "cells": [
  {
   "cell_type": "code",
   "execution_count": null,
   "id": "90a0e98b",
   "metadata": {},
   "outputs": [
    {
     "name": "stdout",
     "output_type": "stream",
     "text": [
      "['/Users/adama/Gladstone Dropbox/Adama Saccoh/March_18_ukbrap_wynton/aortic_area/step_2_aortic_area/merged/Icon\\r', '/Users/adama/Gladstone Dropbox/Adama Saccoh/March_18_ukbrap_wynton/aortic_area/step_2_aortic_area/merged/ukb_wynton_merged_aortic_area_DAo_max_area.regenie.gz', '/Users/adama/Gladstone Dropbox/Adama Saccoh/March_18_ukbrap_wynton/aortic_area/step_2_aortic_area/merged/ukb_wynton_merged_aortic_area_DAo_min_area.regenie.gz', '/Users/adama/Gladstone Dropbox/Adama Saccoh/March_18_ukbrap_wynton/aortic_area/step_2_aortic_area/merged/ukb_wynton_merged_aortic_area_AAo_min_area.regenie.gz', '/Users/adama/Gladstone Dropbox/Adama Saccoh/March_18_ukbrap_wynton/aortic_area/step_2_aortic_area/merged/ukb_wynton_merged_aortic_area_AAo_max_area.regenie.gz', '/Users/adama/Gladstone Dropbox/Adama Saccoh/March_18_ukbrap_wynton/atrial_volume/step_2_atrial_volume/merged/all_ukrap_wynton_atrial_volume_RAV_min.regenie', '/Users/adama/Gladstone Dropbox/Adama Saccoh/March_18_ukbrap_wynton/atrial_volume/step_2_atrial_volume/merged/all_ukrap_wynton_atrial_volume_LAV_max.regenie', '/Users/adama/Gladstone Dropbox/Adama Saccoh/March_18_ukbrap_wynton/atrial_volume/step_2_atrial_volume/merged/all_ukrap_wynton_atrial_volume_LAV_min.regenie', '/Users/adama/Gladstone Dropbox/Adama Saccoh/March_18_ukbrap_wynton/atrial_volume/step_2_atrial_volume/merged/all_ukrap_wynton_atrial_volume_LASV.regenie', '/Users/adama/Gladstone Dropbox/Adama Saccoh/March_18_ukbrap_wynton/atrial_volume/step_2_atrial_volume/merged/all_ukrap_wynton_atrial_volume_RASV.regenie', '/Users/adama/Gladstone Dropbox/Adama Saccoh/March_18_ukbrap_wynton/atrial_volume/step_2_atrial_volume/merged/all_ukrap_wynton_atrial_volume_LAEF.regenie', '/Users/adama/Gladstone Dropbox/Adama Saccoh/March_18_ukbrap_wynton/atrial_volume/step_2_atrial_volume/merged/all_ukrap_wynton_atrial_volume_RAEF.regenie', '/Users/adama/Gladstone Dropbox/Adama Saccoh/March_18_ukbrap_wynton/atrial_volume/step_2_atrial_volume/merged/all_ukrap_wynton_atrial_volume_RAV_max.regenie', '/Users/adama/Gladstone Dropbox/Adama Saccoh/March_18_ukbrap_wynton/ventrical_volume/step_2_ventrical_volume/merged/all_ukrap_wynton_ventricular_volume_RVEDV.regenie', '/Users/adama/Gladstone Dropbox/Adama Saccoh/March_18_ukbrap_wynton/ventrical_volume/step_2_ventrical_volume/merged/all_ukrap_wynton_ventricular_volume_LVESV.regenie', '/Users/adama/Gladstone Dropbox/Adama Saccoh/March_18_ukbrap_wynton/ventrical_volume/step_2_ventrical_volume/merged/all_ukrap_wynton_ventricular_volume_RVESV.regenie', '/Users/adama/Gladstone Dropbox/Adama Saccoh/March_18_ukbrap_wynton/ventrical_volume/step_2_ventrical_volume/merged/all_ukrap_wynton_ventricular_volume_LVM.regenie', '/Users/adama/Gladstone Dropbox/Adama Saccoh/March_18_ukbrap_wynton/ventrical_volume/step_2_ventrical_volume/merged/all_ukrap_wynton_ventrical_volume_LVCO.regenie', '/Users/adama/Gladstone Dropbox/Adama Saccoh/March_18_ukbrap_wynton/ventrical_volume/step_2_ventrical_volume/merged/all_ukrap_wynton_ventricular_volume_LVEDV.regenie', '/Users/adama/Gladstone Dropbox/Adama Saccoh/March_18_ukbrap_wynton/ventrical_volume/step_2_ventrical_volume/merged/all_ukrap_wynton_ventricular_volume_RVEF.regenie', '/Users/adama/Gladstone Dropbox/Adama Saccoh/March_18_ukbrap_wynton/ventrical_volume/step_2_ventrical_volume/merged/all_ukrap_wynton_ventricular_volume_LVEF.regenie', '/Users/adama/Gladstone Dropbox/Adama Saccoh/March_18_ukbrap_wynton/ventrical_volume/step_2_ventrical_volume/merged/all_ukrap_wynton_ventricular_volume_RVSV.regenie', '/Users/adama/Gladstone Dropbox/Adama Saccoh/March_18_ukbrap_wynton/ventrical_volume/step_2_ventrical_volume/merged/all_ukrap_wynton_ventricular_volume_LVSV.regenie', '/Users/adama/Gladstone Dropbox/Adama Saccoh/March_18_ukbrap_wynton/wall_thickness/step_2_wall_thickness/merged/all_ukrap_wynton_wall_thickness_WT_AHA_12.regenie', '/Users/adama/Gladstone Dropbox/Adama Saccoh/March_18_ukbrap_wynton/wall_thickness/step_2_wall_thickness/merged/all_ukrap_wynton_wall_thickness_WT_AHA_6.regenie', '/Users/adama/Gladstone Dropbox/Adama Saccoh/March_18_ukbrap_wynton/wall_thickness/step_2_wall_thickness/merged/all_ukrap_wynton_wall_thickness_WT_Global.regenie', '/Users/adama/Gladstone Dropbox/Adama Saccoh/March_18_ukbrap_wynton/wall_thickness/step_2_wall_thickness/merged/all_ukrap_wynton_wall_thickness_WT_AHA_7.regenie', '/Users/adama/Gladstone Dropbox/Adama Saccoh/March_18_ukbrap_wynton/wall_thickness/step_2_wall_thickness/merged/all_ukrap_wynton_wall_thickness_WT_AHA_13.regenie', '/Users/adama/Gladstone Dropbox/Adama Saccoh/March_18_ukbrap_wynton/wall_thickness/step_2_wall_thickness/merged/all_ukrap_wynton_wall_thickness_WT_AHA_5.regenie', '/Users/adama/Gladstone Dropbox/Adama Saccoh/March_18_ukbrap_wynton/wall_thickness/step_2_wall_thickness/merged/all_ukrap_wynton_wall_thickness_WT_AHA_11.regenie', '/Users/adama/Gladstone Dropbox/Adama Saccoh/March_18_ukbrap_wynton/wall_thickness/step_2_wall_thickness/merged/all_ukrap_wynton_wall_thickness_WT_AHA_10.regenie', '/Users/adama/Gladstone Dropbox/Adama Saccoh/March_18_ukbrap_wynton/wall_thickness/step_2_wall_thickness/merged/all_ukrap_wynton_wall_thickness_WT_AHA_4.regenie', '/Users/adama/Gladstone Dropbox/Adama Saccoh/March_18_ukbrap_wynton/wall_thickness/step_2_wall_thickness/merged/all_ukrap_wynton_wall_thickness_WT_AHA_1.regenie', '/Users/adama/Gladstone Dropbox/Adama Saccoh/March_18_ukbrap_wynton/wall_thickness/step_2_wall_thickness/merged/all_ukrap_wynton_wall_thickness_WT_AHA_8.regenie', '/Users/adama/Gladstone Dropbox/Adama Saccoh/March_18_ukbrap_wynton/wall_thickness/step_2_wall_thickness/merged/all_ukrap_wynton_wall_thickness_WT_AHA_15.regenie', '/Users/adama/Gladstone Dropbox/Adama Saccoh/March_18_ukbrap_wynton/wall_thickness/step_2_wall_thickness/merged/all_ukrap_wynton_wall_thickness_WT_AHA_9.regenie', '/Users/adama/Gladstone Dropbox/Adama Saccoh/March_18_ukbrap_wynton/wall_thickness/step_2_wall_thickness/merged/all_ukrap_wynton_wall_thickness_WT_AHA_14.regenie', '/Users/adama/Gladstone Dropbox/Adama Saccoh/March_18_ukbrap_wynton/wall_thickness/step_2_wall_thickness/merged/all_ukrap_wynton_wall_thickness_WT_AHA_16.regenie', '/Users/adama/Gladstone Dropbox/Adama Saccoh/March_18_ukbrap_wynton/wall_thickness/step_2_wall_thickness/merged/all_ukrap_wynton_wall_thickness_WT_AHA_2.regenie', '/Users/adama/Gladstone Dropbox/Adama Saccoh/March_18_ukbrap_wynton/wall_thickness/step_2_wall_thickness/merged/all_ukrap_wynton_wall_thickness_WT_AHA_3.regenie']\n"
     ]
    }
   ],
   "source": [
    "import gc\n",
    "import os\n",
    "import pandas as pd\n",
    "from utils import load_paths, process_file, plot_trait_correlation_heatmaps\n",
    "from functools import reduce\n",
    "\n",
    "import matplotlib.pyplot as plt\n",
    "\n",
    "\n",
    "main_folder = \"/Users/adama/Gladstone Dropbox/Adama Saccoh/March_18_ukbrap_wynton\"\n",
    "traits = [\"aortic_area\", \"atrial_volume\",\"ventrical_volume\" ,\"wall_thickness\"]\n",
    "\n",
    "files_use=load_paths(traits,main_folder)\n",
    "print(files_use[0])\n",
    "\n",
    "\n",
    "use_df=files_use[1]  # This is a dictionary with trait names as keys and lists of file paths as values\n",
    "\n",
    "\n",
    "\n",
    "wt_dfs=use_df[\"wall_thickness\"]\n",
    "a_df=use_df[\"aortic_area\"]\n",
    "ventricle_df=use_df[\"ventrical_volume\"]\n",
    "atria_df=use_df[\"atrial_volume\"]\n"
   ]
  },
  {
   "cell_type": "code",
   "execution_count": 2,
   "id": "094873f9",
   "metadata": {},
   "outputs": [
    {
     "name": "stdout",
     "output_type": "stream",
     "text": [
      "Saved matrix: shape=(78365, 18)\n",
      "Skipping invalid file /Users/adama/Gladstone Dropbox/Adama Saccoh/March_18_ukbrap_wynton/aortic_area/step_2_aortic_area/merged/Icon\n",
      "Saved matrix: shape=(15167, 5)\n",
      "Saved matrix: shape=(9461, 11)\n",
      "Saved matrix: shape=(1158, 9)\n"
     ]
    }
   ],
   "source": [
    "trait_file_dict = {\n",
    "    \"wall_thickness\": wt_dfs,\n",
    "    \"aorta\": a_df,\n",
    "    \"ventricle\": ventricle_df,\n",
    "    \"atria\": atria_df,\n",
    "}\n",
    "\n",
    "# Loop over the dictionary\n",
    "for trait, file_list in trait_file_dict.items():\n",
    "    output_file = f\"zscore_matrix_wide_{trait}.csv\"\n",
    "    process_file(file_list, logp_thresh=7.3, output_file=output_file)\n"
   ]
  },
  {
   "cell_type": "code",
   "execution_count": null,
   "id": "a65f05e5",
   "metadata": {},
   "outputs": [],
   "source": [
    "\n"
   ]
  },
  {
   "cell_type": "code",
   "execution_count": null,
   "id": "2a5eac43",
   "metadata": {},
   "outputs": [
    {
     "name": "stdout",
     "output_type": "stream",
     "text": [
      "Saved heatmap to /Users/adama/Downloads/Tchandjieu_Lab/NMF_python/heatmaps/zscore_matrix_wide_aorta_heatmap.png\n",
      "Pruned traits for zscore_matrix_wide_aorta.csv: ['z_score_AAo_max_area']\n",
      "\n",
      "Saved heatmap to /Users/adama/Downloads/Tchandjieu_Lab/NMF_python/heatmaps/zscore_matrix_wide_atria_heatmap.png\n",
      "Pruned traits for zscore_matrix_wide_atria.csv: ['z_score_volume_LAV_min']\n",
      "\n",
      "Saved heatmap to /Users/adama/Downloads/Tchandjieu_Lab/NMF_python/heatmaps/zscore_matrix_wide_wall_thickness_heatmap.png\n",
      "Pruned traits for zscore_matrix_wide_wall_thickness.csv: ['z_score_WT_AHA_1', 'z_score_WT_AHA_10', 'z_score_WT_AHA_11', 'z_score_WT_AHA_13', 'z_score_WT_AHA_14', 'z_score_WT_AHA_15', 'z_score_WT_AHA_16', 'z_score_WT_AHA_2', 'z_score_WT_AHA_5', 'z_score_WT_AHA_7', 'z_score_WT_AHA_8', 'z_score_WT_AHA_9', 'z_score_thickness_WT_Global']\n",
      "\n",
      "Saved heatmap to /Users/adama/Downloads/Tchandjieu_Lab/NMF_python/heatmaps/zscore_matrix_wide_ventricle_heatmap.png\n",
      "Pruned traits for zscore_matrix_wide_ventricle.csv: []\n",
      "\n"
     ]
    }
   ],
   "source": [
    "input_folder = \"/Users/adama/Downloads/Tchandjieu_Lab/NMF_python/zscore_csv\"\n",
    "output_folder = \"/Users/adama/Downloads/Tchandjieu_Lab/Adama_bnmf_handover/plots\"\n",
    "\n",
    "plot_trait_correlation_heatmaps(input_folder, output_folder, corr_threshold=0.85)\n"
   ]
  }
 ],
 "metadata": {
  "kernelspec": {
   "display_name": "plotting",
   "language": "python",
   "name": "python3"
  },
  "language_info": {
   "codemirror_mode": {
    "name": "ipython",
    "version": 3
   },
   "file_extension": ".py",
   "mimetype": "text/x-python",
   "name": "python",
   "nbconvert_exporter": "python",
   "pygments_lexer": "ipython3",
   "version": "3.8.18"
  }
 },
 "nbformat": 4,
 "nbformat_minor": 5
}
