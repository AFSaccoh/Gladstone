{
 "cells": [
  {
   "cell_type": "code",
   "execution_count": 1,
   "id": "7c83dd00",
   "metadata": {},
   "outputs": [],
   "source": [
    "import pandas as pd\n",
    "import os\n",
    "import pandas as pd\n",
    "import numpy as np\n",
    "import seaborn as sns\n",
    "import matplotlib.pyplot as plt\n",
    "from glob import glob\n",
    "\n",
    "from utils import load_paths"
   ]
  },
  {
   "cell_type": "code",
   "execution_count": 2,
   "id": "e3242351",
   "metadata": {},
   "outputs": [],
   "source": [
    "\n",
    "def all_combine_nofilter(\n",
    "    files_by_trait,\n",
    "    cols_keep,\n",
    "    output_folder=\"/Users/adama/Downloads/Tchandjieu_Lab/Adama_bnmf_handover/files/combined_gwas\"\n",
    "):\n",
    "    os.makedirs(output_folder, exist_ok=True)\n",
    "    \n",
    "    df_dict = {}\n",
    "    combined_file = os.path.join(output_folder, \"all_cardiac_traits_raw.csv\")\n",
    "    first_write = True  # for appending to CSV safely\n",
    "\n",
    "    with open(combined_file, 'w') as f:  # Clear any old file early\n",
    "        pass\n",
    "\n",
    "    for trait, file_list in files_by_trait.items():\n",
    "        trait_output_path = os.path.join(output_folder, f\"{trait}_prepruned.csv\")\n",
    "        first_trait_write = True\n",
    "\n",
    "        for filepath in file_list:\n",
    "            if not filepath.endswith(('.regenie', '.regenie.gz')):\n",
    "                print(f\"Skipping invalid file: {filepath}\")\n",
    "                continue\n",
    "\n",
    "            try:\n",
    "                df = pd.read_csv(filepath, delim_whitespace=True, usecols=lambda c: c in cols_keep)\n",
    "                df = df[df['ID'].str.startswith('rs')]\n",
    "\n",
    "                label = '_'.join(os.path.basename(filepath).replace('.regenie.gz', '').replace('.regenie', '').split('_')[-3:])\n",
    "                df['trait'] = label\n",
    "\n",
    "                df.to_csv(trait_output_path, mode='a', header=first_trait_write, index=False)\n",
    "                df.to_csv(combined_file, mode='a', header=first_write, index=False)\n",
    "\n",
    "                first_trait_write = False\n",
    "                first_write = False\n",
    "\n",
    "            except Exception as e:\n",
    "                print(f\"❌ Error processing {filepath}: {e}\")\n",
    "\n",
    "    print(\"✅ All traits combined and saved (in chunks).\")\n",
    "    return None, None  # Omit storing large dataframes in memory"
   ]
  },
  {
   "cell_type": "code",
   "execution_count": 4,
   "id": "7db1e76d",
   "metadata": {},
   "outputs": [
    {
     "name": "stdout",
     "output_type": "stream",
     "text": [
      "Skipping invalid file: /Users/adama/Gladstone Dropbox/Adama Saccoh/March_18_ukbrap_wynton/aortic_area/step_2_aortic_area/merged/Icon\n",
      "✅ All traits combined and saved (in chunks).\n"
     ]
    }
   ],
   "source": [
    "main_folder = \"/Users/adama/Gladstone Dropbox/Adama Saccoh/March_18_ukbrap_wynton\"\n",
    "traits = [\"aortic_area\", \"atrial_volume\",\"ventrical_volume\" ,\"wall_thickness\"]\n",
    "\n",
    "files_use=load_paths(traits,main_folder)\n",
    "\n",
    "df_dict, all_traits_df=all_combine_nofilter(files_use[1],\n",
    "    cols_keep=['ID', 'LOG10P','CHROM', 'GENPOS','ALLELE0','ALLELE1','A1FREQ','BETA','SE'],\n",
    "    output_folder=\"/Users/adama/Downloads/Tchandjieu_Lab/Adama_bnmf_handover/files/gwas_sumstat/gwas_unfltered\")"
   ]
  },
  {
   "cell_type": "code",
   "execution_count": null,
   "id": "bf4ab147",
   "metadata": {},
   "outputs": [],
   "source": [
    "data=pd.read_csv('/Users/adama/Downloads/Tchandjieu_Lab/NMF_python/raw_data/all_cardiac_traits_raw.csv')\n",
    "\n",
    "data['full_id_10']=data[\"CHROM\"].astype(str) + \":\" + \\\n",
    "                                       data[\"GENPOS\"].astype(str) + \":\" + \\\n",
    "                                       data[\"ALLELE1\"] + \":\" + data[\"ALLELE0\"]\n",
    "\n",
    "\n",
    "data['full_id_01']=data[\"CHROM\"].astype(str) + \":\" + \\\n",
    "                                       data[\"GENPOS\"].astype(str) + \":\" + \\\n",
    "                                       data[\"ALLELE0\"] + \":\" + data[\"ALLELE1\"]"
   ]
  },
  {
   "cell_type": "code",
   "execution_count": null,
   "id": "2a6c04b2",
   "metadata": {},
   "outputs": [],
   "source": []
  }
 ],
 "metadata": {
  "kernelspec": {
   "display_name": "plotting",
   "language": "python",
   "name": "python3"
  },
  "language_info": {
   "codemirror_mode": {
    "name": "ipython",
    "version": 3
   },
   "file_extension": ".py",
   "mimetype": "text/x-python",
   "name": "python",
   "nbconvert_exporter": "python",
   "pygments_lexer": "ipython3",
   "version": "3.8.18"
  }
 },
 "nbformat": 4,
 "nbformat_minor": 5
}
