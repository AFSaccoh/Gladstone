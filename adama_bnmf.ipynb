{
 "cells": [
  {
   "cell_type": "code",
   "execution_count": 1,
   "id": "102ed0de",
   "metadata": {},
   "outputs": [],
   "source": [
    "import pandas as pd \n",
    "import os \n",
    "import glob"
   ]
  },
  {
   "cell_type": "code",
   "execution_count": null,
   "id": "47b0e583",
   "metadata": {},
   "outputs": [],
   "source": [
    "def extract_snp_and_chromosome(folder_path, sep=\"\\t\"):\n",
    "    all_entries = []\n",
    "\n",
    "    for file in os.listdir(folder_path):\n",
    "        if file.endswith(\".clumps\"):\n",
    "            file_path = os.path.join(folder_path, file)\n",
    "            try:\n",
    "                df = pd.read_csv(file_path, sep=sep)\n",
    "                \n",
    "\n",
    "                if \"ID\" in df.columns and \"#CHROM\" in df.columns:\n",
    "                    df = df[[\"ID\", \"#CHROM\"]].copy()\n",
    "                    df.rename(columns={\"#CHROM\": \"chromosome\"}, inplace=True)\n",
    "                    all_entries.append(df)\n",
    "                else:\n",
    "                    print(f\"Skipping {file}: Required columns not found.\")\n",
    "            except Exception as e:\n",
    "                print(f\"Error loading {file}: {e}\")\n",
    "\n",
    "    return pd.concat(all_entries, ignore_index=True)"
   ]
  },
  {
   "cell_type": "code",
   "execution_count": null,
   "id": "e20584a0",
   "metadata": {},
   "outputs": [],
   "source": [
    "def non_neg_matrix(matrix): \n",
    "    \n",
    "    df_traits_filtered=[]\n",
    "    z_mat=matrix \n",
    "\n",
    "     # Positive component\n",
    "    z_mat_pos = z_mat.copy()\n",
    "    z_mat_pos[z_mat_pos < 0] = 0\n",
    "    z_mat_pos.columns = [f\"{col}_pos\" for col in z_mat_pos.columns]\n",
    "        \n",
    "        # Negative component  \n",
    "    z_mat_neg = -z_mat.copy()\n",
    "    z_mat_neg[z_mat_neg < 0] = 0\n",
    "    z_mat_neg.columns = [f\"{col}_neg\" for col in z_mat.columns]\n",
    "        \n",
    "    final_z_mat = pd.concat([z_mat_pos, z_mat_neg], axis=1)\n",
    "   \n",
    "    return final_z_mat"
   ]
  },
  {
   "cell_type": "code",
   "execution_count": null,
   "id": "a894eb2f",
   "metadata": {},
   "outputs": [],
   "source": [
    "#snp list after pruning \n",
    "folder_path=\"/Users/adama/Downloads/Tchandjieu_Lab/adama_snps_all\"\n",
    "pruned_df=extract_snp_and_chromosome(folder_path, sep=\"\\t\")"
   ]
  },
  {
   "cell_type": "code",
   "execution_count": 5,
   "id": "47100e0a",
   "metadata": {},
   "outputs": [
    {
     "data": {
      "application/vnd.microsoft.datawrangler.viewer.v0+json": {
       "columns": [
        {
         "name": "index",
         "rawType": "int64",
         "type": "integer"
        },
        {
         "name": "ID",
         "rawType": "object",
         "type": "string"
        },
        {
         "name": "chromosome",
         "rawType": "int64",
         "type": "integer"
        }
       ],
       "ref": "ea034521-3faf-4770-a893-c62522ff0dbd",
       "rows": [
        [
         "0",
         "15:85383145:C:G",
         "15"
        ],
        [
         "1",
         "15:48885877:G:A",
         "15"
        ],
        [
         "2",
         "15:84917314:T:C",
         "15"
        ],
        [
         "3",
         "15:99269878:T:A",
         "15"
        ],
        [
         "4",
         "15:71612514:T:G",
         "15"
        ],
        [
         "5",
         "15:84664456:A:G",
         "15"
        ],
        [
         "6",
         "15:91422543:T:C",
         "15"
        ],
        [
         "7",
         "15:84293783:C:T",
         "15"
        ],
        [
         "8",
         "15:74223767:C:G",
         "15"
        ],
        [
         "9",
         "15:65497849:A:G",
         "15"
        ],
        [
         "10",
         "15:43950699:A:T",
         "15"
        ],
        [
         "11",
         "15:79059695:C:T",
         "15"
        ],
        [
         "12",
         "15:73691202:A:G",
         "15"
        ],
        [
         "13",
         "15:41893120:C:T",
         "15"
        ],
        [
         "14",
         "15:85379415:A:G",
         "15"
        ],
        [
         "15",
         "15:73401141:C:G",
         "15"
        ],
        [
         "16",
         "15:77810740:A:C",
         "15"
        ],
        [
         "17",
         "15:84048795:G:A",
         "15"
        ],
        [
         "18",
         "15:41220969:T:C",
         "15"
        ],
        [
         "19",
         "15:68132084:A:T",
         "15"
        ],
        [
         "20",
         "15:43685807:A:C",
         "15"
        ],
        [
         "21",
         "15:81042816:A:G",
         "15"
        ],
        [
         "22",
         "15:44947434:T:C",
         "15"
        ],
        [
         "23",
         "15:49011935:T:C",
         "15"
        ],
        [
         "24",
         "15:66861279:G:A",
         "15"
        ],
        [
         "25",
         "12:22008367:G:T",
         "12"
        ],
        [
         "26",
         "12:112007756:C:T",
         "12"
        ],
        [
         "27",
         "12:62765577:T:G",
         "12"
        ],
        [
         "28",
         "12:111708458:A:C",
         "12"
        ],
        [
         "29",
         "12:112273499:C:T",
         "12"
        ],
        [
         "30",
         "12:112610714:G:A",
         "12"
        ],
        [
         "31",
         "12:112871372:A:G",
         "12"
        ],
        [
         "32",
         "12:123895906:G:C",
         "12"
        ],
        [
         "33",
         "12:24758480:G:A",
         "12"
        ],
        [
         "34",
         "12:115381740:G:A",
         "12"
        ],
        [
         "35",
         "12:57519694:G:C",
         "12"
        ],
        [
         "36",
         "12:71113087:T:C",
         "12"
        ],
        [
         "37",
         "12:20237623:G:C",
         "12"
        ],
        [
         "38",
         "12:105738183:C:G",
         "12"
        ],
        [
         "39",
         "12:94152370:T:G",
         "12"
        ],
        [
         "40",
         "12:123451018:G:C",
         "12"
        ],
        [
         "41",
         "12:51182122:C:T",
         "12"
        ],
        [
         "42",
         "12:90088790:G:A",
         "12"
        ],
        [
         "43",
         "12:116756670:T:G",
         "12"
        ],
        [
         "44",
         "12:115552437:A:G",
         "12"
        ],
        [
         "45",
         "12:120668534:G:A",
         "12"
        ],
        [
         "46",
         "12:119587366:G:A",
         "12"
        ],
        [
         "47",
         "12:26348429:C:G",
         "12"
        ],
        [
         "48",
         "12:50716958:C:A",
         "12"
        ],
        [
         "49",
         "12:110731182:T:G",
         "12"
        ]
       ],
       "shape": {
        "columns": 2,
        "rows": 596
       }
      },
      "text/html": [
       "<div>\n",
       "<style scoped>\n",
       "    .dataframe tbody tr th:only-of-type {\n",
       "        vertical-align: middle;\n",
       "    }\n",
       "\n",
       "    .dataframe tbody tr th {\n",
       "        vertical-align: top;\n",
       "    }\n",
       "\n",
       "    .dataframe thead th {\n",
       "        text-align: right;\n",
       "    }\n",
       "</style>\n",
       "<table border=\"1\" class=\"dataframe\">\n",
       "  <thead>\n",
       "    <tr style=\"text-align: right;\">\n",
       "      <th></th>\n",
       "      <th>ID</th>\n",
       "      <th>chromosome</th>\n",
       "    </tr>\n",
       "  </thead>\n",
       "  <tbody>\n",
       "    <tr>\n",
       "      <th>0</th>\n",
       "      <td>15:85383145:C:G</td>\n",
       "      <td>15</td>\n",
       "    </tr>\n",
       "    <tr>\n",
       "      <th>1</th>\n",
       "      <td>15:48885877:G:A</td>\n",
       "      <td>15</td>\n",
       "    </tr>\n",
       "    <tr>\n",
       "      <th>2</th>\n",
       "      <td>15:84917314:T:C</td>\n",
       "      <td>15</td>\n",
       "    </tr>\n",
       "    <tr>\n",
       "      <th>3</th>\n",
       "      <td>15:99269878:T:A</td>\n",
       "      <td>15</td>\n",
       "    </tr>\n",
       "    <tr>\n",
       "      <th>4</th>\n",
       "      <td>15:71612514:T:G</td>\n",
       "      <td>15</td>\n",
       "    </tr>\n",
       "    <tr>\n",
       "      <th>...</th>\n",
       "      <td>...</td>\n",
       "      <td>...</td>\n",
       "    </tr>\n",
       "    <tr>\n",
       "      <th>591</th>\n",
       "      <td>17:8382184:G:T</td>\n",
       "      <td>17</td>\n",
       "    </tr>\n",
       "    <tr>\n",
       "      <th>592</th>\n",
       "      <td>17:41837719:G:A</td>\n",
       "      <td>17</td>\n",
       "    </tr>\n",
       "    <tr>\n",
       "      <th>593</th>\n",
       "      <td>17:27962393:T:G</td>\n",
       "      <td>17</td>\n",
       "    </tr>\n",
       "    <tr>\n",
       "      <th>594</th>\n",
       "      <td>17:57929535:A:G</td>\n",
       "      <td>17</td>\n",
       "    </tr>\n",
       "    <tr>\n",
       "      <th>595</th>\n",
       "      <td>17:44173505:T:C</td>\n",
       "      <td>17</td>\n",
       "    </tr>\n",
       "  </tbody>\n",
       "</table>\n",
       "<p>596 rows × 2 columns</p>\n",
       "</div>"
      ],
      "text/plain": [
       "                  ID  chromosome\n",
       "0    15:85383145:C:G          15\n",
       "1    15:48885877:G:A          15\n",
       "2    15:84917314:T:C          15\n",
       "3    15:99269878:T:A          15\n",
       "4    15:71612514:T:G          15\n",
       "..               ...         ...\n",
       "591   17:8382184:G:T          17\n",
       "592  17:41837719:G:A          17\n",
       "593  17:27962393:T:G          17\n",
       "594  17:57929535:A:G          17\n",
       "595  17:44173505:T:C          17\n",
       "\n",
       "[596 rows x 2 columns]"
      ]
     },
     "execution_count": 5,
     "metadata": {},
     "output_type": "execute_result"
    }
   ],
   "source": [
    "pruned_df"
   ]
  },
  {
   "cell_type": "code",
   "execution_count": null,
   "id": "59c777b9",
   "metadata": {},
   "outputs": [
    {
     "name": "stdout",
     "output_type": "stream",
     "text": [
      "✅ Merging complete. Output saved to: pre_bnmf_merged_output.csv\n"
     ]
    }
   ],
   "source": [
    "# combining pruned table and the combined gwas summary stats file \n",
    " # has column 'ID'\n",
    "pruned_df['ID'] = pruned_df['ID'].astype(str)\n",
    "\n",
    "# Large file\n",
    "input_file = \"/Users/adama/Downloads/Tchandjieu_Lab/NMF_python/raw_data/all_cardiac_traits_raw.csv\"  # or .zip\n",
    "output_file = \"pruned_gwas_summary_stats.csv\"\n",
    "\n",
    "chunksize = 100_000\n",
    "first_write = True\n",
    "\n",
    "for chunk in pd.read_csv(input_file, chunksize=chunksize):\n",
    "    # Make sure required columns are there\n",
    "    required_cols = [\"CHROM\", \"GENPOS\", \"ALLELE1\", \"ALLELE0\"]\n",
    "    if not all(col in chunk.columns for col in required_cols):\n",
    "        continue\n",
    "\n",
    "    # Convert to string and create full_id_10\n",
    "    chunk['full_id_10'] = (\n",
    "        chunk[\"CHROM\"].astype(str) + \":\" +\n",
    "        chunk[\"GENPOS\"].astype(str) + \":\" +\n",
    "        chunk[\"ALLELE1\"].astype(str) + \":\" +\n",
    "        chunk[\"ALLELE0\"].astype(str)\n",
    "    )\n",
    "\n",
    "    # Merge with pruned table\n",
    "    merged = pd.merge(chunk, pruned_df, left_on='full_id_10', right_on='ID', how='inner')\n",
    "\n",
    "    # Save only if there's something to save\n",
    "    if not merged.empty:\n",
    "        merged.to_csv(output_file, mode='a', index=False, header=first_write)\n",
    "        first_write = False\n",
    "\n",
    "print(\"✅ Merging complete. Output saved to:\", output_file)"
   ]
  },
  {
   "cell_type": "code",
   "execution_count": null,
   "id": "5e54d14d",
   "metadata": {},
   "outputs": [],
   "source": [
    "#load the created data frame, only keep traits with correlation less than 0.8\n",
    "keep=['AAo_max_area', 'DAo_max_area',\n",
    "       'WT_AHA_12',\n",
    "       'WT_AHA_2',  'WT_AHA_6', \n",
    "       'atrial_volume_LAEF', 'atrial_volume_LASV', 'atrial_volume_RAEF',\n",
    "       'atrial_volume_RASV', 'thickness_WT_Global', 'ventrical_volume_LVCO',\n",
    "       'ventricular_volume_LVEDV', 'ventricular_volume_LVEF',\n",
    "       'ventricular_volume_LVESV', 'ventricular_volume_LVM',\n",
    "       'ventricular_volume_LVSV', 'ventricular_volume_RVEDV',\n",
    "       'ventricular_volume_RVEF', 'ventricular_volume_RVESV',\n",
    "       'ventricular_volume_RVSV', 'volume_LAV_max',\n",
    "       'volume_RAV_max']\n",
    "\n",
    "data=pd.read_csv('/Users/adama/Downloads/Tchandjieu_Lab/NMF_python/pruned_gwas_summary_stats.csv')\n",
    "#calculate zscore\n",
    "data['z_score']=data['BETA']/ data['SE']\n",
    "\n",
    "#pivot df to create the table needed for the matrix \n",
    "\n",
    "pivot_df = data.pivot_table(values='z_score', index='ID_y', columns='trait')\n",
    "#filter for cardiac traits needed\n",
    "new=pivot_df[keep]\n",
    "#create non-negative matrix \n",
    "final_use=non_neg_matrix(new)\n",
    "\n",
    "file_name_1='all_2606__bnmf_matrix.csv'\n",
    "final_use.to_csv(file_name_1)"
   ]
  }
 ],
 "metadata": {
  "kernelspec": {
   "display_name": "plotting",
   "language": "python",
   "name": "python3"
  },
  "language_info": {
   "codemirror_mode": {
    "name": "ipython",
    "version": 3
   },
   "file_extension": ".py",
   "mimetype": "text/x-python",
   "name": "python",
   "nbconvert_exporter": "python",
   "pygments_lexer": "ipython3",
   "version": "3.8.18"
  }
 },
 "nbformat": 4,
 "nbformat_minor": 5
}
